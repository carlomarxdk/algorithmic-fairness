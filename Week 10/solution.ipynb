{
 "cells": [
  {
   "cell_type": "markdown",
   "id": "dc826c63",
   "metadata": {},
   "source": [
    "# Data analysis in the Amazon audit\n",
    "Most of the materials in this notebook were kindly provided by Piotr Sapiezynski (www.sapiezynski.com)"
   ]
  },
  {
   "cell_type": "markdown",
   "id": "54b43ed9",
   "metadata": {},
   "source": [
    "### The motivation behind the analysis\n",
    "Read it here\n",
    "https://themarkup.org/amazons-advantage/2021/10/14/amazon-puts-its-own-brands-first-above-better-rated-products"
   ]
  },
  {
   "cell_type": "code",
   "execution_count": 1,
   "id": "957dfe54",
   "metadata": {},
   "outputs": [
    {
     "name": "stdout",
     "output_type": "stream",
     "text": [
      "Requirement already satisfied: pandas in /Users/roberta/opt/anaconda3/lib/python3.9/site-packages (1.4.1)\n",
      "Collecting pandas\n",
      "  Downloading pandas-1.4.2-cp39-cp39-macosx_10_9_x86_64.whl (11.1 MB)\n",
      "\u001b[K     |████████████████████████████████| 11.1 MB 2.7 MB/s eta 0:00:01\n",
      "\u001b[?25hRequirement already satisfied: python-dateutil>=2.8.1 in /Users/roberta/opt/anaconda3/lib/python3.9/site-packages (from pandas) (2.8.2)\n",
      "Requirement already satisfied: pytz>=2020.1 in /Users/roberta/opt/anaconda3/lib/python3.9/site-packages (from pandas) (2021.3)\n",
      "Requirement already satisfied: numpy>=1.18.5 in /Users/roberta/opt/anaconda3/lib/python3.9/site-packages (from pandas) (1.20.3)\n",
      "Requirement already satisfied: six>=1.5 in /Users/roberta/opt/anaconda3/lib/python3.9/site-packages (from python-dateutil>=2.8.1->pandas) (1.16.0)\n",
      "Installing collected packages: pandas\n",
      "  Attempting uninstall: pandas\n",
      "    Found existing installation: pandas 1.4.1\n",
      "    Uninstalling pandas-1.4.1:\n",
      "      Successfully uninstalled pandas-1.4.1\n",
      "Successfully installed pandas-1.4.2\n",
      "Requirement already satisfied: scikit-learn in /Users/roberta/opt/anaconda3/lib/python3.9/site-packages (1.0.2)\n",
      "Requirement already satisfied: numpy>=1.14.6 in /Users/roberta/opt/anaconda3/lib/python3.9/site-packages (from scikit-learn) (1.20.3)\n",
      "Requirement already satisfied: threadpoolctl>=2.0.0 in /Users/roberta/opt/anaconda3/lib/python3.9/site-packages (from scikit-learn) (2.2.0)\n",
      "Requirement already satisfied: joblib>=0.11 in /Users/roberta/opt/anaconda3/lib/python3.9/site-packages (from scikit-learn) (1.1.0)\n",
      "Requirement already satisfied: scipy>=1.1.0 in /Users/roberta/opt/anaconda3/lib/python3.9/site-packages (from scikit-learn) (1.7.1)\n",
      "Requirement already satisfied: statsmodels in /Users/roberta/opt/anaconda3/lib/python3.9/site-packages (0.13.2)\n",
      "Requirement already satisfied: packaging>=21.3 in /Users/roberta/opt/anaconda3/lib/python3.9/site-packages (from statsmodels) (21.3)\n",
      "Requirement already satisfied: patsy>=0.5.2 in /Users/roberta/opt/anaconda3/lib/python3.9/site-packages (from statsmodels) (0.5.2)\n",
      "Requirement already satisfied: numpy>=1.17 in /Users/roberta/opt/anaconda3/lib/python3.9/site-packages (from statsmodels) (1.20.3)\n",
      "Requirement already satisfied: scipy>=1.3 in /Users/roberta/opt/anaconda3/lib/python3.9/site-packages (from statsmodels) (1.7.1)\n",
      "Requirement already satisfied: pandas>=0.25 in /Users/roberta/opt/anaconda3/lib/python3.9/site-packages (from statsmodels) (1.4.2)\n",
      "Requirement already satisfied: pyparsing!=3.0.5,>=2.0.2 in /Users/roberta/opt/anaconda3/lib/python3.9/site-packages (from packaging>=21.3->statsmodels) (3.0.4)\n",
      "Requirement already satisfied: pytz>=2020.1 in /Users/roberta/opt/anaconda3/lib/python3.9/site-packages (from pandas>=0.25->statsmodels) (2021.3)\n",
      "Requirement already satisfied: python-dateutil>=2.8.1 in /Users/roberta/opt/anaconda3/lib/python3.9/site-packages (from pandas>=0.25->statsmodels) (2.8.2)\n",
      "Requirement already satisfied: six in /Users/roberta/opt/anaconda3/lib/python3.9/site-packages (from patsy>=0.5.2->statsmodels) (1.16.0)\n"
     ]
    }
   ],
   "source": [
    "# installing the packages for today (if needed)\n",
    "!pip install -U pandas\n",
    "!pip install -U scikit-learn\n",
    "!pip install -U statsmodels"
   ]
  },
  {
   "cell_type": "code",
   "execution_count": 2,
   "id": "ee44a271",
   "metadata": {},
   "outputs": [],
   "source": [
    "import pandas as pd\n",
    "from sklearn.model_selection import train_test_split"
   ]
  },
  {
   "cell_type": "code",
   "execution_count": 3,
   "id": "c3a63e89",
   "metadata": {},
   "outputs": [],
   "source": [
    "# this is the data from the markup audit, downloaded from their github: \n",
    "# https://github.com/the-markup/investigation-amazon-brands \n",
    "\n",
    "data = pd.read_csv('https://www.sapiezynski.com/cs4910/markup/data.csv')"
   ]
  },
  {
   "cell_type": "code",
   "execution_count": 4,
   "id": "fa258855",
   "metadata": {},
   "outputs": [
    {
     "data": {
      "text/html": [
       "<div>\n",
       "<style scoped>\n",
       "    .dataframe tbody tr th:only-of-type {\n",
       "        vertical-align: middle;\n",
       "    }\n",
       "\n",
       "    .dataframe tbody tr th {\n",
       "        vertical-align: top;\n",
       "    }\n",
       "\n",
       "    .dataframe thead th {\n",
       "        text-align: right;\n",
       "    }\n",
       "</style>\n",
       "<table border=\"1\" class=\"dataframe\">\n",
       "  <thead>\n",
       "    <tr style=\"text-align: right;\">\n",
       "      <th></th>\n",
       "      <th>search_term</th>\n",
       "      <th>placed_higher</th>\n",
       "      <th>stars_delta</th>\n",
       "      <th>reviews_delta</th>\n",
       "      <th>is_shipped_by_amazon</th>\n",
       "      <th>is_sold_by_amazon</th>\n",
       "      <th>is_amazon</th>\n",
       "      <th>is_top_clicked</th>\n",
       "      <th>random_noise</th>\n",
       "      <th>asin_1</th>\n",
       "      <th>asin_2</th>\n",
       "    </tr>\n",
       "  </thead>\n",
       "  <tbody>\n",
       "    <tr>\n",
       "      <th>0</th>\n",
       "      <td>#10 envelope</td>\n",
       "      <td>True</td>\n",
       "      <td>0.0</td>\n",
       "      <td>1654.0</td>\n",
       "      <td>0</td>\n",
       "      <td>2</td>\n",
       "      <td>2</td>\n",
       "      <td>0</td>\n",
       "      <td>-2.569736</td>\n",
       "      <td>B06VVLD2GL</td>\n",
       "      <td>B01D0OANU4</td>\n",
       "    </tr>\n",
       "    <tr>\n",
       "      <th>1</th>\n",
       "      <td>#6 envelope</td>\n",
       "      <td>True</td>\n",
       "      <td>0.1</td>\n",
       "      <td>7844.0</td>\n",
       "      <td>0</td>\n",
       "      <td>2</td>\n",
       "      <td>2</td>\n",
       "      <td>2</td>\n",
       "      <td>0.951532</td>\n",
       "      <td>B06X15WSLL</td>\n",
       "      <td>B07JNXMBSX</td>\n",
       "    </tr>\n",
       "    <tr>\n",
       "      <th>2</th>\n",
       "      <td>1 inch binder</td>\n",
       "      <td>False</td>\n",
       "      <td>0.0</td>\n",
       "      <td>-9383.0</td>\n",
       "      <td>0</td>\n",
       "      <td>0</td>\n",
       "      <td>-2</td>\n",
       "      <td>0</td>\n",
       "      <td>0.618294</td>\n",
       "      <td>B00A45VF2S</td>\n",
       "      <td>B01BRGTWOA</td>\n",
       "    </tr>\n",
       "    <tr>\n",
       "      <th>3</th>\n",
       "      <td>1% milk</td>\n",
       "      <td>False</td>\n",
       "      <td>0.0</td>\n",
       "      <td>-183.0</td>\n",
       "      <td>0</td>\n",
       "      <td>0</td>\n",
       "      <td>0</td>\n",
       "      <td>-2</td>\n",
       "      <td>0.645435</td>\n",
       "      <td>B07W5Z8SJ8</td>\n",
       "      <td>B07WC9MMPD</td>\n",
       "    </tr>\n",
       "    <tr>\n",
       "      <th>4</th>\n",
       "      <td>10 dollar gifts</td>\n",
       "      <td>True</td>\n",
       "      <td>0.8</td>\n",
       "      <td>75410.0</td>\n",
       "      <td>0</td>\n",
       "      <td>2</td>\n",
       "      <td>0</td>\n",
       "      <td>0</td>\n",
       "      <td>-1.075435</td>\n",
       "      <td>B00F4CEHNK</td>\n",
       "      <td>B07FCNYND8</td>\n",
       "    </tr>\n",
       "    <tr>\n",
       "      <th>...</th>\n",
       "      <td>...</td>\n",
       "      <td>...</td>\n",
       "      <td>...</td>\n",
       "      <td>...</td>\n",
       "      <td>...</td>\n",
       "      <td>...</td>\n",
       "      <td>...</td>\n",
       "      <td>...</td>\n",
       "      <td>...</td>\n",
       "      <td>...</td>\n",
       "      <td>...</td>\n",
       "    </tr>\n",
       "    <tr>\n",
       "      <th>1410</th>\n",
       "      <td>zwave hub</td>\n",
       "      <td>True</td>\n",
       "      <td>0.8</td>\n",
       "      <td>848.0</td>\n",
       "      <td>0</td>\n",
       "      <td>0</td>\n",
       "      <td>0</td>\n",
       "      <td>2</td>\n",
       "      <td>0.047647</td>\n",
       "      <td>B07D19VVTX</td>\n",
       "      <td>B077Y939JQ</td>\n",
       "    </tr>\n",
       "    <tr>\n",
       "      <th>1411</th>\n",
       "      <td>zxzy womens hoodies</td>\n",
       "      <td>True</td>\n",
       "      <td>-0.1</td>\n",
       "      <td>6.0</td>\n",
       "      <td>0</td>\n",
       "      <td>0</td>\n",
       "      <td>0</td>\n",
       "      <td>0</td>\n",
       "      <td>0.009533</td>\n",
       "      <td>B08F7RFZGP</td>\n",
       "      <td>B08KT3BD2X</td>\n",
       "    </tr>\n",
       "    <tr>\n",
       "      <th>1412</th>\n",
       "      <td>zyliss knives</td>\n",
       "      <td>True</td>\n",
       "      <td>0.0</td>\n",
       "      <td>3010.0</td>\n",
       "      <td>0</td>\n",
       "      <td>0</td>\n",
       "      <td>0</td>\n",
       "      <td>0</td>\n",
       "      <td>-0.148278</td>\n",
       "      <td>B01DKEB5OC</td>\n",
       "      <td>B0753SKVZX</td>\n",
       "    </tr>\n",
       "    <tr>\n",
       "      <th>1413</th>\n",
       "      <td>zyrtec for kids</td>\n",
       "      <td>True</td>\n",
       "      <td>-0.2</td>\n",
       "      <td>2184.0</td>\n",
       "      <td>2</td>\n",
       "      <td>2</td>\n",
       "      <td>0</td>\n",
       "      <td>0</td>\n",
       "      <td>1.474693</td>\n",
       "      <td>B004E0QGOQ</td>\n",
       "      <td>B088X7151W</td>\n",
       "    </tr>\n",
       "    <tr>\n",
       "      <th>1414</th>\n",
       "      <td>zz plant</td>\n",
       "      <td>True</td>\n",
       "      <td>0.1</td>\n",
       "      <td>379.0</td>\n",
       "      <td>2</td>\n",
       "      <td>2</td>\n",
       "      <td>2</td>\n",
       "      <td>-2</td>\n",
       "      <td>1.686695</td>\n",
       "      <td>B07QD5FXRZ</td>\n",
       "      <td>B07RJYZ7W3</td>\n",
       "    </tr>\n",
       "  </tbody>\n",
       "</table>\n",
       "<p>1415 rows × 11 columns</p>\n",
       "</div>"
      ],
      "text/plain": [
       "              search_term  placed_higher  stars_delta  reviews_delta  \\\n",
       "0            #10 envelope           True          0.0         1654.0   \n",
       "1             #6 envelope           True          0.1         7844.0   \n",
       "2           1 inch binder          False          0.0        -9383.0   \n",
       "3                 1% milk          False          0.0         -183.0   \n",
       "4         10 dollar gifts           True          0.8        75410.0   \n",
       "...                   ...            ...          ...            ...   \n",
       "1410            zwave hub           True          0.8          848.0   \n",
       "1411  zxzy womens hoodies           True         -0.1            6.0   \n",
       "1412        zyliss knives           True          0.0         3010.0   \n",
       "1413      zyrtec for kids           True         -0.2         2184.0   \n",
       "1414             zz plant           True          0.1          379.0   \n",
       "\n",
       "      is_shipped_by_amazon  is_sold_by_amazon  is_amazon  is_top_clicked  \\\n",
       "0                        0                  2          2               0   \n",
       "1                        0                  2          2               2   \n",
       "2                        0                  0         -2               0   \n",
       "3                        0                  0          0              -2   \n",
       "4                        0                  2          0               0   \n",
       "...                    ...                ...        ...             ...   \n",
       "1410                     0                  0          0               2   \n",
       "1411                     0                  0          0               0   \n",
       "1412                     0                  0          0               0   \n",
       "1413                     2                  2          0               0   \n",
       "1414                     2                  2          2              -2   \n",
       "\n",
       "      random_noise      asin_1      asin_2  \n",
       "0        -2.569736  B06VVLD2GL  B01D0OANU4  \n",
       "1         0.951532  B06X15WSLL  B07JNXMBSX  \n",
       "2         0.618294  B00A45VF2S  B01BRGTWOA  \n",
       "3         0.645435  B07W5Z8SJ8  B07WC9MMPD  \n",
       "4        -1.075435  B00F4CEHNK  B07FCNYND8  \n",
       "...            ...         ...         ...  \n",
       "1410      0.047647  B07D19VVTX  B077Y939JQ  \n",
       "1411      0.009533  B08F7RFZGP  B08KT3BD2X  \n",
       "1412     -0.148278  B01DKEB5OC  B0753SKVZX  \n",
       "1413      1.474693  B004E0QGOQ  B088X7151W  \n",
       "1414      1.686695  B07QD5FXRZ  B07RJYZ7W3  \n",
       "\n",
       "[1415 rows x 11 columns]"
      ]
     },
     "execution_count": 4,
     "metadata": {},
     "output_type": "execute_result"
    }
   ],
   "source": [
    "data"
   ]
  },
  {
   "cell_type": "markdown",
   "id": "4a1130ef",
   "metadata": {},
   "source": [
    "![features](https://mrkp-static-production.themarkup.org/graphics/amazon-methodology-product-comparison/1634143723511/assets/product-pairs-subtraction-desktop.png)"
   ]
  },
  {
   "cell_type": "code",
   "execution_count": 295,
   "id": "b7af39c9",
   "metadata": {},
   "outputs": [],
   "source": [
    "columns = ['stars_delta', 'reviews_delta', 'is_amazon',\n",
    "        'is_shipped_by_amazon', 'is_sold_by_amazon',\n",
    "        'is_top_clicked', 'placed_higher']"
   ]
  },
  {
   "cell_type": "code",
   "execution_count": 296,
   "id": "aca689c5",
   "metadata": {},
   "outputs": [],
   "source": [
    "dataset = data[columns]"
   ]
  },
  {
   "cell_type": "code",
   "execution_count": 297,
   "id": "b61334ce",
   "metadata": {},
   "outputs": [],
   "source": [
    "train, test = train_test_split(dataset, test_size=0.2, stratify=dataset['placed_higher'])"
   ]
  },
  {
   "cell_type": "code",
   "execution_count": 298,
   "id": "66574481",
   "metadata": {},
   "outputs": [],
   "source": [
    "features = ['is_amazon',\n",
    "        'is_shipped_by_amazon', 'is_sold_by_amazon',\n",
    "        'is_top_clicked', 'stars_delta', 'reviews_delta', ]"
   ]
  },
  {
   "cell_type": "code",
   "execution_count": 299,
   "id": "3c5fbe08",
   "metadata": {},
   "outputs": [
    {
     "data": {
      "text/plain": [
       "RandomForestClassifier(max_depth=3, max_features=6, n_estimators=500)"
      ]
     },
     "execution_count": 299,
     "metadata": {},
     "output_type": "execute_result"
    }
   ],
   "source": [
    "from sklearn.ensemble import RandomForestClassifier\n",
    "clf = RandomForestClassifier(n_estimators=500, max_depth=3, max_features = 6)\n",
    "clf.fit(train[features], train['placed_higher'])\n"
   ]
  },
  {
   "cell_type": "code",
   "execution_count": 304,
   "id": "fe5d4acb",
   "metadata": {},
   "outputs": [
    {
     "data": {
      "text/plain": [
       "0.6855123674911661"
      ]
     },
     "execution_count": 304,
     "metadata": {},
     "output_type": "execute_result"
    }
   ],
   "source": [
    "# let's see how well it does in predicting the test set\n",
    "# 1. predict the test data\n",
    "y_pred = clf.predict(test[features])\n",
    "\n",
    "# 2. calculate accuracy, i.e. the fraction of time that the prediction was correct out of all predictions\n",
    "(y_pred == test['placed_higher']).sum()/len(y_pred)"
   ]
  },
  {
   "cell_type": "code",
   "execution_count": 305,
   "id": "c55d8507",
   "metadata": {},
   "outputs": [
    {
     "name": "stdout",
     "output_type": "stream",
     "text": [
      "is_amazon 0.9032928487280287\n",
      "is_shipped_by_amazon 0.007487632851518247\n",
      "is_sold_by_amazon 0.002829947430288105\n",
      "is_top_clicked 0.002445399880340501\n",
      "stars_delta 0.019225107462222012\n",
      "reviews_delta 0.06471906364760226\n"
     ]
    }
   ],
   "source": [
    "for feature, importance in zip(features, clf.feature_importances_):\n",
    "    print(feature, importance)"
   ]
  },
  {
   "cell_type": "markdown",
   "id": "e578da7a",
   "metadata": {},
   "source": [
    "![features](https://www.sapiezynski.com/cs4910/markup/importances.png)"
   ]
  },
  {
   "cell_type": "markdown",
   "id": "982f32f1",
   "metadata": {},
   "source": [
    "So clearly, `is_amazon` is the most important, but what exactly does it mean, how does it translate the the probability of being the top result? RandomForests won't tell us... But logistic regression can.\n",
    "\n",
    "First, quick reminder on regression. \n",
    "\n",
    "**Linear** regression has the following formula:\n",
    "\n",
    "$$ y = \\beta_0 + \\beta_1x_1 + \\beta_2x_2 + ... $$\n",
    "\n",
    "This means that:\n",
    "* when all variables are equal to 0, the outcome variable $y$ is equal to $\\beta_0$, the intercept.\n",
    "* a **unit** change in $x_1$ corresponds to $y$ changing by $\\beta_1$ \n",
    "\n",
    "It might not be a powerful model, but it offers a clear interpretation/explanation in regression problems.\n",
    "\n",
    "**Logistic** regression is mostly used for binary classification and it looks similar to the linear regression, but now the outcome variable is the logarithm of odds of success.\n",
    "\n",
    "$$ ln(\\frac{\\pi}{1-\\pi}) = \\beta_0 + \\beta_1x_1 + \\beta_2x_2 + ... $$\n",
    "\n",
    "where $pi$ is the probability of success, so $1-\\pi$ is the probability of failure.\n",
    "\n",
    "Then, a unit change in $x_1$ corresponds to $\\beta_1$ change in log odd ratios... but that is not intuitive at all. Let's rewrite it to calculate the probability directly:\n",
    "\n",
    "$$\\begin{align}\n",
    "ln(\\frac{\\pi}{1-\\pi}) &= \\beta_0 + \\beta_1x_1 + \\beta_2x_2 + ... \\\\\n",
    "\\frac{\\pi}{1-\\pi} &= e^{\\beta_0 + \\beta_1x_1 + \\beta_2x_2 + ...} \\\\\n",
    "{\\pi} &= ({1-\\pi})e^{\\beta_0 + \\beta_1x_1 + \\beta_2x_2 + ...} \\\\\n",
    "{\\pi} &= e^{\\beta_0 + \\beta_1x_1 + \\beta_2x_2 + ...}-\\pi e^{\\beta_0 + \\beta_1x_1 + \\beta_2x_2 + ...}\\\\\n",
    "{\\pi}(1+e^{\\beta_0 + \\beta_1x_1 + \\beta_2x_2 + ...}) &= e^{\\beta_0 + \\beta_1x_1 + \\beta_2x_2 + ...} \\\\\n",
    "{\\pi} &= \\frac{e^{\\beta_0 + \\beta_1x_1 + \\beta_2x_2 + ...}}{1+e^{\\beta_0 + \\beta_1x_1 + \\beta_2x_2 + ...}}\n",
    "\\end{align}$$\n",
    "\n",
    "So, while we cannot directly say from that a unit change of $x_1$ corresponds to a certain change in the probability of the outcome, we can just plug zeros and ones into the equation above and compute the changes."
   ]
  },
  {
   "cell_type": "markdown",
   "id": "1c2e41d8",
   "metadata": {},
   "source": [
    "Let's load the data from scratch and do some cleaning (I'm dividing by two, because The Markup left the values of -2, 0, 2 so they never have a \"unit\" change. If we divide them by two, the unit change actually is meaningful)."
   ]
  },
  {
   "cell_type": "code",
   "execution_count": 273,
   "id": "f2de095a",
   "metadata": {},
   "outputs": [],
   "source": [
    "data = pd.read_csv('https://www.sapiezynski.com/cs4910/markup/data.csv')\n",
    "data['is_shipped_by_amazon'] /= 2\n",
    "data['is_sold_by_amazon'] /= 2\n",
    "data['is_amazon'] /= 2\n",
    "data['is_top_clicked'] /= 2\n",
    "dataset = data[columns]\n",
    "\n",
    "train, test = train_test_split(dataset, test_size=0.2, stratify=dataset['placed_higher'])\n"
   ]
  },
  {
   "cell_type": "markdown",
   "id": "5649e842",
   "metadata": {},
   "source": [
    "Let's start with a model that only has the intercept (constant) and `is_amazon` as features."
   ]
  },
  {
   "cell_type": "code",
   "execution_count": 281,
   "id": "efe4900e",
   "metadata": {},
   "outputs": [
    {
     "name": "stdout",
     "output_type": "stream",
     "text": [
      "Optimization terminated successfully.\n",
      "         Current function value: 0.494906\n",
      "         Iterations 6\n"
     ]
    }
   ],
   "source": [
    "import statsmodels.api as sm\n",
    "from statsmodels.tools.tools import add_constant\n",
    "\n",
    "# adding the intercept as a variable\n",
    "train = add_constant(train)\n",
    "\n",
    "# selecting which features to train on\n",
    "features = ['const', 'is_amazon']\n",
    "\n",
    "# training a logistic regression model. First the dependent (outcome variable), then the features\n",
    "log_reg = sm.Logit(train['placed_higher'], train[features]).fit()"
   ]
  },
  {
   "cell_type": "code",
   "execution_count": 282,
   "id": "3d67abac",
   "metadata": {},
   "outputs": [
    {
     "data": {
      "text/html": [
       "<table class=\"simpletable\">\n",
       "<caption>Logit Regression Results</caption>\n",
       "<tr>\n",
       "  <th>Dep. Variable:</th>     <td>placed_higher</td>  <th>  No. Observations:  </th>  <td>  1132</td>  \n",
       "</tr>\n",
       "<tr>\n",
       "  <th>Model:</th>                 <td>Logit</td>      <th>  Df Residuals:      </th>  <td>  1130</td>  \n",
       "</tr>\n",
       "<tr>\n",
       "  <th>Method:</th>                 <td>MLE</td>       <th>  Df Model:          </th>  <td>     1</td>  \n",
       "</tr>\n",
       "<tr>\n",
       "  <th>Date:</th>            <td>Mon, 07 Feb 2022</td> <th>  Pseudo R-squ.:     </th>  <td>0.2859</td>  \n",
       "</tr>\n",
       "<tr>\n",
       "  <th>Time:</th>                <td>11:20:43</td>     <th>  Log-Likelihood:    </th> <td> -560.23</td> \n",
       "</tr>\n",
       "<tr>\n",
       "  <th>converged:</th>             <td>True</td>       <th>  LL-Null:           </th> <td> -784.58</td> \n",
       "</tr>\n",
       "<tr>\n",
       "  <th>Covariance Type:</th>     <td>nonrobust</td>    <th>  LLR p-value:       </th> <td>1.391e-99</td>\n",
       "</tr>\n",
       "</table>\n",
       "<table class=\"simpletable\">\n",
       "<tr>\n",
       "      <td></td>         <th>coef</th>     <th>std err</th>      <th>z</th>      <th>P>|z|</th>  <th>[0.025</th>    <th>0.975]</th>  \n",
       "</tr>\n",
       "<tr>\n",
       "  <th>const</th>     <td>    0.0883</td> <td>    0.073</td> <td>    1.208</td> <td> 0.227</td> <td>   -0.055</td> <td>    0.232</td>\n",
       "</tr>\n",
       "<tr>\n",
       "  <th>is_amazon</th> <td>    2.4883</td> <td>    0.163</td> <td>   15.278</td> <td> 0.000</td> <td>    2.169</td> <td>    2.807</td>\n",
       "</tr>\n",
       "</table>"
      ],
      "text/plain": [
       "<class 'statsmodels.iolib.summary.Summary'>\n",
       "\"\"\"\n",
       "                           Logit Regression Results                           \n",
       "==============================================================================\n",
       "Dep. Variable:          placed_higher   No. Observations:                 1132\n",
       "Model:                          Logit   Df Residuals:                     1130\n",
       "Method:                           MLE   Df Model:                            1\n",
       "Date:                Mon, 07 Feb 2022   Pseudo R-squ.:                  0.2859\n",
       "Time:                        11:20:43   Log-Likelihood:                -560.23\n",
       "converged:                       True   LL-Null:                       -784.58\n",
       "Covariance Type:            nonrobust   LLR p-value:                 1.391e-99\n",
       "==============================================================================\n",
       "                 coef    std err          z      P>|z|      [0.025      0.975]\n",
       "------------------------------------------------------------------------------\n",
       "const          0.0883      0.073      1.208      0.227      -0.055       0.232\n",
       "is_amazon      2.4883      0.163     15.278      0.000       2.169       2.807\n",
       "==============================================================================\n",
       "\"\"\""
      ]
     },
     "execution_count": 282,
     "metadata": {},
     "output_type": "execute_result"
    }
   ],
   "source": [
    "log_reg.summary()"
   ]
  },
  {
   "cell_type": "markdown",
   "id": "b76a031b",
   "metadata": {},
   "source": [
    "We will mostly be looking at the bottom table.\n",
    "\n",
    "`const` (the intercept) translates to the probability if all other variables are equal to 0\n",
    "\n",
    "$$ p = \\frac{e^{\\beta_{const}}}{1+e^{\\beta_{const}}} $$"
   ]
  },
  {
   "cell_type": "code",
   "execution_count": 283,
   "id": "1bbb4193",
   "metadata": {},
   "outputs": [
    {
     "data": {
      "text/plain": [
       "0.5220557281748975"
      ]
     },
     "execution_count": 283,
     "metadata": {},
     "output_type": "execute_result"
    }
   ],
   "source": [
    "import numpy as np\n",
    "\n",
    "# the beta coefficients are stored in the .params list, with the constant being first\n",
    "# get the constant out of the fit model:\n",
    "const = log_reg.params[0]\n",
    "\n",
    "np.e**const/(1+np.e**const) \n"
   ]
  },
  {
   "cell_type": "code",
   "execution_count": 279,
   "id": "74d39b6d",
   "metadata": {},
   "outputs": [
    {
     "data": {
      "text/plain": [
       "0.5220557281748975"
      ]
     },
     "execution_count": 279,
     "metadata": {},
     "output_type": "execute_result"
    }
   ],
   "source": []
  },
  {
   "cell_type": "markdown",
   "id": "7b54c40a",
   "metadata": {},
   "source": [
    "This should be very close to 50%. In our case if all variables are zero, it means that either:\n",
    "1. The products are both from amazon\n",
    "2. The products are both not from amazon\n",
    "\n",
    "We don't have a way to differentiate them, so it's a coin toss (50%)"
   ]
  },
  {
   "cell_type": "markdown",
   "id": "9798f7f7",
   "metadata": {},
   "source": [
    "The other coefficients describe the change in odds that corresponds to a unit change in the variable.\n",
    "* if the coefficient is positive, it means that an **increase** of variable corresponds to an **increase** in the odds of the positive outcome\n",
    "* if the coefficient is positive, it means that an **increase** of variable corresponds to an **decrease** in the odds of the positive outcome\n",
    "\n",
    "\n",
    "So what happens when `is_amazon` is equal to 1, i.e. one product is an amazon product and the other isn't?\n",
    "By looking at the `coef` we already know it's going to go up (because the coefficient is positive). But by How much? Let's calculate:\n",
    "\n",
    "\n",
    "$$ p = \\frac{e^{\\beta_{const} + \\beta_{is\\_amazon}}}{1+e^{\\beta_{const} + \\beta_{is\\_amazon}}} $$"
   ]
  },
  {
   "cell_type": "code",
   "execution_count": 284,
   "id": "ff3c8ac1",
   "metadata": {},
   "outputs": [
    {
     "name": "stdout",
     "output_type": "stream",
     "text": [
      "0.9293369710808036\n"
     ]
    }
   ],
   "source": [
    "numerator = np.e**(log_reg.params[0] + log_reg.params[1])\n",
    "print(numerator/(1+numerator))"
   ]
  },
  {
   "cell_type": "markdown",
   "id": "62ac8941",
   "metadata": {},
   "source": [
    "That means that in this dataset 93\\% of the time we have two products where one is from amazon and the other isn't, it's the amazon product that will be on the first place.\n",
    "\n",
    "Solved? Well no, because maybe this is just because amazon products are better. Let's include the star difference in the analysis to **control** for this:"
   ]
  },
  {
   "cell_type": "code",
   "execution_count": 285,
   "id": "1819f862",
   "metadata": {},
   "outputs": [
    {
     "name": "stdout",
     "output_type": "stream",
     "text": [
      "Optimization terminated successfully.\n",
      "         Current function value: 0.494329\n",
      "         Iterations 6\n"
     ]
    },
    {
     "data": {
      "text/html": [
       "<table class=\"simpletable\">\n",
       "<caption>Logit Regression Results</caption>\n",
       "<tr>\n",
       "  <th>Dep. Variable:</th>     <td>placed_higher</td>  <th>  No. Observations:  </th>  <td>  1132</td>  \n",
       "</tr>\n",
       "<tr>\n",
       "  <th>Model:</th>                 <td>Logit</td>      <th>  Df Residuals:      </th>  <td>  1129</td>  \n",
       "</tr>\n",
       "<tr>\n",
       "  <th>Method:</th>                 <td>MLE</td>       <th>  Df Model:          </th>  <td>     2</td>  \n",
       "</tr>\n",
       "<tr>\n",
       "  <th>Date:</th>            <td>Mon, 07 Feb 2022</td> <th>  Pseudo R-squ.:     </th>  <td>0.2868</td>  \n",
       "</tr>\n",
       "<tr>\n",
       "  <th>Time:</th>                <td>11:21:33</td>     <th>  Log-Likelihood:    </th> <td> -559.58</td> \n",
       "</tr>\n",
       "<tr>\n",
       "  <th>converged:</th>             <td>True</td>       <th>  LL-Null:           </th> <td> -784.58</td> \n",
       "</tr>\n",
       "<tr>\n",
       "  <th>Covariance Type:</th>     <td>nonrobust</td>    <th>  LLR p-value:       </th> <td>1.925e-98</td>\n",
       "</tr>\n",
       "</table>\n",
       "<table class=\"simpletable\">\n",
       "<tr>\n",
       "       <td></td>          <th>coef</th>     <th>std err</th>      <th>z</th>      <th>P>|z|</th>  <th>[0.025</th>    <th>0.975]</th>  \n",
       "</tr>\n",
       "<tr>\n",
       "  <th>const</th>       <td>    0.0867</td> <td>    0.073</td> <td>    1.185</td> <td> 0.236</td> <td>   -0.057</td> <td>    0.230</td>\n",
       "</tr>\n",
       "<tr>\n",
       "  <th>is_amazon</th>   <td>    2.4786</td> <td>    0.163</td> <td>   15.202</td> <td> 0.000</td> <td>    2.159</td> <td>    2.798</td>\n",
       "</tr>\n",
       "<tr>\n",
       "  <th>stars_delta</th> <td>   -0.2737</td> <td>    0.241</td> <td>   -1.138</td> <td> 0.255</td> <td>   -0.745</td> <td>    0.198</td>\n",
       "</tr>\n",
       "</table>"
      ],
      "text/plain": [
       "<class 'statsmodels.iolib.summary.Summary'>\n",
       "\"\"\"\n",
       "                           Logit Regression Results                           \n",
       "==============================================================================\n",
       "Dep. Variable:          placed_higher   No. Observations:                 1132\n",
       "Model:                          Logit   Df Residuals:                     1129\n",
       "Method:                           MLE   Df Model:                            2\n",
       "Date:                Mon, 07 Feb 2022   Pseudo R-squ.:                  0.2868\n",
       "Time:                        11:21:33   Log-Likelihood:                -559.58\n",
       "converged:                       True   LL-Null:                       -784.58\n",
       "Covariance Type:            nonrobust   LLR p-value:                 1.925e-98\n",
       "===============================================================================\n",
       "                  coef    std err          z      P>|z|      [0.025      0.975]\n",
       "-------------------------------------------------------------------------------\n",
       "const           0.0867      0.073      1.185      0.236      -0.057       0.230\n",
       "is_amazon       2.4786      0.163     15.202      0.000       2.159       2.798\n",
       "stars_delta    -0.2737      0.241     -1.138      0.255      -0.745       0.198\n",
       "===============================================================================\n",
       "\"\"\""
      ]
     },
     "execution_count": 285,
     "metadata": {},
     "output_type": "execute_result"
    }
   ],
   "source": [
    "features = ['const', 'is_amazon','stars_delta', ]\n",
    "log_reg = sm.Logit(train['placed_higher'], train[features]).fit()\n",
    "log_reg.summary()"
   ]
  },
  {
   "cell_type": "markdown",
   "id": "8b2f1bcb",
   "metadata": {},
   "source": [
    "Now notice the last two columns - that's the 95% confidence interval. If one value is positive, and the other negative, the interval includes 0, which means we can't really tell if the effect is positive, or negative - it's not significant. Turns out, controling for the star rating doesn't change anything.\n",
    "\n",
    "Let's add the review delta:"
   ]
  },
  {
   "cell_type": "code",
   "execution_count": 286,
   "id": "dfa539b7",
   "metadata": {},
   "outputs": [
    {
     "name": "stdout",
     "output_type": "stream",
     "text": [
      "Optimization terminated successfully.\n",
      "         Current function value: 0.493737\n",
      "         Iterations 6\n"
     ]
    },
    {
     "data": {
      "text/html": [
       "<table class=\"simpletable\">\n",
       "<caption>Logit Regression Results</caption>\n",
       "<tr>\n",
       "  <th>Dep. Variable:</th>     <td>placed_higher</td>  <th>  No. Observations:  </th>  <td>  1132</td>  \n",
       "</tr>\n",
       "<tr>\n",
       "  <th>Model:</th>                 <td>Logit</td>      <th>  Df Residuals:      </th>  <td>  1128</td>  \n",
       "</tr>\n",
       "<tr>\n",
       "  <th>Method:</th>                 <td>MLE</td>       <th>  Df Model:          </th>  <td>     3</td>  \n",
       "</tr>\n",
       "<tr>\n",
       "  <th>Date:</th>            <td>Mon, 07 Feb 2022</td> <th>  Pseudo R-squ.:     </th>  <td>0.2876</td>  \n",
       "</tr>\n",
       "<tr>\n",
       "  <th>Time:</th>                <td>11:21:57</td>     <th>  Log-Likelihood:    </th> <td> -558.91</td> \n",
       "</tr>\n",
       "<tr>\n",
       "  <th>converged:</th>             <td>True</td>       <th>  LL-Null:           </th> <td> -784.58</td> \n",
       "</tr>\n",
       "<tr>\n",
       "  <th>Covariance Type:</th>     <td>nonrobust</td>    <th>  LLR p-value:       </th> <td>1.673e-97</td>\n",
       "</tr>\n",
       "</table>\n",
       "<table class=\"simpletable\">\n",
       "<tr>\n",
       "        <td></td>           <th>coef</th>     <th>std err</th>      <th>z</th>      <th>P>|z|</th>  <th>[0.025</th>    <th>0.975]</th>  \n",
       "</tr>\n",
       "<tr>\n",
       "  <th>const</th>         <td>    0.0854</td> <td>    0.073</td> <td>    1.167</td> <td> 0.243</td> <td>   -0.058</td> <td>    0.229</td>\n",
       "</tr>\n",
       "<tr>\n",
       "  <th>is_amazon</th>     <td>    2.4875</td> <td>    0.163</td> <td>   15.216</td> <td> 0.000</td> <td>    2.167</td> <td>    2.808</td>\n",
       "</tr>\n",
       "<tr>\n",
       "  <th>stars_delta</th>   <td>   -0.2588</td> <td>    0.241</td> <td>   -1.075</td> <td> 0.282</td> <td>   -0.730</td> <td>    0.213</td>\n",
       "</tr>\n",
       "<tr>\n",
       "  <th>reviews_delta</th> <td>-1.353e-06</td> <td> 1.17e-06</td> <td>   -1.157</td> <td> 0.247</td> <td>-3.64e-06</td> <td> 9.39e-07</td>\n",
       "</tr>\n",
       "</table>"
      ],
      "text/plain": [
       "<class 'statsmodels.iolib.summary.Summary'>\n",
       "\"\"\"\n",
       "                           Logit Regression Results                           \n",
       "==============================================================================\n",
       "Dep. Variable:          placed_higher   No. Observations:                 1132\n",
       "Model:                          Logit   Df Residuals:                     1128\n",
       "Method:                           MLE   Df Model:                            3\n",
       "Date:                Mon, 07 Feb 2022   Pseudo R-squ.:                  0.2876\n",
       "Time:                        11:21:57   Log-Likelihood:                -558.91\n",
       "converged:                       True   LL-Null:                       -784.58\n",
       "Covariance Type:            nonrobust   LLR p-value:                 1.673e-97\n",
       "=================================================================================\n",
       "                    coef    std err          z      P>|z|      [0.025      0.975]\n",
       "---------------------------------------------------------------------------------\n",
       "const             0.0854      0.073      1.167      0.243      -0.058       0.229\n",
       "is_amazon         2.4875      0.163     15.216      0.000       2.167       2.808\n",
       "stars_delta      -0.2588      0.241     -1.075      0.282      -0.730       0.213\n",
       "reviews_delta -1.353e-06   1.17e-06     -1.157      0.247   -3.64e-06    9.39e-07\n",
       "=================================================================================\n",
       "\"\"\""
      ]
     },
     "execution_count": 286,
     "metadata": {},
     "output_type": "execute_result"
    }
   ],
   "source": [
    "features = ['const', 'is_amazon','stars_delta', 'reviews_delta']\n",
    "log_reg = sm.Logit(train['placed_higher'], train[features]).fit()\n",
    "log_reg.summary()"
   ]
  },
  {
   "cell_type": "markdown",
   "id": "673e38da",
   "metadata": {},
   "source": [
    "Same story, so let's include the rest of our variables."
   ]
  },
  {
   "cell_type": "code",
   "execution_count": 287,
   "id": "04a538a5",
   "metadata": {},
   "outputs": [
    {
     "name": "stdout",
     "output_type": "stream",
     "text": [
      "Optimization terminated successfully.\n",
      "         Current function value: 0.485827\n",
      "         Iterations 6\n"
     ]
    },
    {
     "data": {
      "text/html": [
       "<table class=\"simpletable\">\n",
       "<caption>Logit Regression Results</caption>\n",
       "<tr>\n",
       "  <th>Dep. Variable:</th>     <td>placed_higher</td>  <th>  No. Observations:  </th>  <td>  1132</td>  \n",
       "</tr>\n",
       "<tr>\n",
       "  <th>Model:</th>                 <td>Logit</td>      <th>  Df Residuals:      </th>  <td>  1125</td>  \n",
       "</tr>\n",
       "<tr>\n",
       "  <th>Method:</th>                 <td>MLE</td>       <th>  Df Model:          </th>  <td>     6</td>  \n",
       "</tr>\n",
       "<tr>\n",
       "  <th>Date:</th>            <td>Mon, 07 Feb 2022</td> <th>  Pseudo R-squ.:     </th>  <td>0.2990</td>  \n",
       "</tr>\n",
       "<tr>\n",
       "  <th>Time:</th>                <td>11:22:17</td>     <th>  Log-Likelihood:    </th> <td> -549.96</td> \n",
       "</tr>\n",
       "<tr>\n",
       "  <th>converged:</th>             <td>True</td>       <th>  LL-Null:           </th> <td> -784.58</td> \n",
       "</tr>\n",
       "<tr>\n",
       "  <th>Covariance Type:</th>     <td>nonrobust</td>    <th>  LLR p-value:       </th> <td>3.532e-98</td>\n",
       "</tr>\n",
       "</table>\n",
       "<table class=\"simpletable\">\n",
       "<tr>\n",
       "            <td></td>              <th>coef</th>     <th>std err</th>      <th>z</th>      <th>P>|z|</th>  <th>[0.025</th>    <th>0.975]</th>  \n",
       "</tr>\n",
       "<tr>\n",
       "  <th>const</th>                <td>    0.1059</td> <td>    0.074</td> <td>    1.428</td> <td> 0.153</td> <td>   -0.039</td> <td>    0.251</td>\n",
       "</tr>\n",
       "<tr>\n",
       "  <th>is_amazon</th>            <td>    2.2388</td> <td>    0.174</td> <td>   12.889</td> <td> 0.000</td> <td>    1.898</td> <td>    2.579</td>\n",
       "</tr>\n",
       "<tr>\n",
       "  <th>stars_delta</th>          <td>   -0.3405</td> <td>    0.246</td> <td>   -1.384</td> <td> 0.166</td> <td>   -0.823</td> <td>    0.142</td>\n",
       "</tr>\n",
       "<tr>\n",
       "  <th>reviews_delta</th>        <td>-1.501e-06</td> <td> 1.17e-06</td> <td>   -1.283</td> <td> 0.200</td> <td>-3.79e-06</td> <td> 7.93e-07</td>\n",
       "</tr>\n",
       "<tr>\n",
       "  <th>is_shipped_by_amazon</th> <td>   -0.2945</td> <td>    0.240</td> <td>   -1.225</td> <td> 0.221</td> <td>   -0.766</td> <td>    0.177</td>\n",
       "</tr>\n",
       "<tr>\n",
       "  <th>is_sold_by_amazon</th>    <td>    0.7100</td> <td>    0.172</td> <td>    4.124</td> <td> 0.000</td> <td>    0.373</td> <td>    1.047</td>\n",
       "</tr>\n",
       "<tr>\n",
       "  <th>is_top_clicked</th>       <td>    0.0046</td> <td>    0.144</td> <td>    0.032</td> <td> 0.974</td> <td>   -0.277</td> <td>    0.286</td>\n",
       "</tr>\n",
       "</table>"
      ],
      "text/plain": [
       "<class 'statsmodels.iolib.summary.Summary'>\n",
       "\"\"\"\n",
       "                           Logit Regression Results                           \n",
       "==============================================================================\n",
       "Dep. Variable:          placed_higher   No. Observations:                 1132\n",
       "Model:                          Logit   Df Residuals:                     1125\n",
       "Method:                           MLE   Df Model:                            6\n",
       "Date:                Mon, 07 Feb 2022   Pseudo R-squ.:                  0.2990\n",
       "Time:                        11:22:17   Log-Likelihood:                -549.96\n",
       "converged:                       True   LL-Null:                       -784.58\n",
       "Covariance Type:            nonrobust   LLR p-value:                 3.532e-98\n",
       "========================================================================================\n",
       "                           coef    std err          z      P>|z|      [0.025      0.975]\n",
       "----------------------------------------------------------------------------------------\n",
       "const                    0.1059      0.074      1.428      0.153      -0.039       0.251\n",
       "is_amazon                2.2388      0.174     12.889      0.000       1.898       2.579\n",
       "stars_delta             -0.3405      0.246     -1.384      0.166      -0.823       0.142\n",
       "reviews_delta        -1.501e-06   1.17e-06     -1.283      0.200   -3.79e-06    7.93e-07\n",
       "is_shipped_by_amazon    -0.2945      0.240     -1.225      0.221      -0.766       0.177\n",
       "is_sold_by_amazon        0.7100      0.172      4.124      0.000       0.373       1.047\n",
       "is_top_clicked           0.0046      0.144      0.032      0.974      -0.277       0.286\n",
       "========================================================================================\n",
       "\"\"\""
      ]
     },
     "execution_count": 287,
     "metadata": {},
     "output_type": "execute_result"
    }
   ],
   "source": [
    "features = ['const', 'is_amazon','stars_delta', 'reviews_delta',\n",
    "        'is_shipped_by_amazon', 'is_sold_by_amazon',\n",
    "        'is_top_clicked']\n",
    "log_reg = sm.Logit(train['placed_higher'], train[features]).fit()\n",
    "log_reg.summary()"
   ]
  },
  {
   "cell_type": "markdown",
   "id": "b22ce264",
   "metadata": {},
   "source": [
    "The only other significant variable is `is_sold_by_amazon`. How do we interpret its value?\n",
    "\n",
    "For exaple, both products are from amazon or are not from amazon, but one is sold by amazon, so `is_amazon = 0` and `is_sold_by_amazon = 1`\n",
    "\n"
   ]
  },
  {
   "cell_type": "code",
   "execution_count": 288,
   "id": "ad0e1857",
   "metadata": {},
   "outputs": [
    {
     "name": "stdout",
     "output_type": "stream",
     "text": [
      "0.6933580136415483\n"
     ]
    }
   ],
   "source": [
    "numerator = np.e**(log_reg.params[0] + log_reg.params[1] * 0 + log_reg.params[5] * 1)\n",
    "print(numerator/(1+numerator))"
   ]
  },
  {
   "cell_type": "markdown",
   "id": "29cbe5d7",
   "metadata": {},
   "source": [
    "That's the probability the product sold by amazon will be first.\n",
    "\n",
    "For another example, first product is from amazon and sold by amazon, the other is neither:\n"
   ]
  },
  {
   "cell_type": "code",
   "execution_count": 289,
   "id": "dfb721ee",
   "metadata": {},
   "outputs": [
    {
     "name": "stdout",
     "output_type": "stream",
     "text": [
      "0.9549840944621973\n"
     ]
    }
   ],
   "source": [
    "numerator = np.e**(log_reg.params[0] + log_reg.params[1] * 1 + log_reg.params[5] * 1)\n",
    "print(numerator/(1+numerator))"
   ]
  },
  {
   "cell_type": "markdown",
   "id": "d41c03e8",
   "metadata": {},
   "source": [
    "That's the probability the product sold by amazon will be first - it's slightly higher than when the first product is from amazon and the other isn't but we don't know who sells it.\n"
   ]
  },
  {
   "cell_type": "markdown",
   "id": "f7f3bad1",
   "metadata": {},
   "source": [
    "What about the predictive performance? The Markup uses RandomForests with hyperparameter tuning to get the best prediction and ends up with 73.2% accuracy"
   ]
  },
  {
   "cell_type": "code",
   "execution_count": 290,
   "id": "c5935746",
   "metadata": {},
   "outputs": [],
   "source": [
    "test = add_constant(test)\n",
    "y_pred = log_reg.predict(test[features])"
   ]
  },
  {
   "cell_type": "code",
   "execution_count": 291,
   "id": "25cdb290",
   "metadata": {},
   "outputs": [
    {
     "data": {
      "text/plain": [
       "0.696113074204947"
      ]
     },
     "execution_count": 291,
     "metadata": {},
     "output_type": "execute_result"
    }
   ],
   "source": [
    "((y_pred > 0.5) == test['placed_higher']).mean()"
   ]
  },
  {
   "cell_type": "code",
   "execution_count": 292,
   "id": "7b242d97",
   "metadata": {},
   "outputs": [
    {
     "data": {
      "text/plain": [
       "(1132, 8)"
      ]
     },
     "execution_count": 292,
     "metadata": {},
     "output_type": "execute_result"
    }
   ],
   "source": [
    "train.shape"
   ]
  },
  {
   "cell_type": "code",
   "execution_count": 271,
   "id": "4f5516e6",
   "metadata": {},
   "outputs": [
    {
     "data": {
      "text/html": [
       "<div>\n",
       "<style scoped>\n",
       "    .dataframe tbody tr th:only-of-type {\n",
       "        vertical-align: middle;\n",
       "    }\n",
       "\n",
       "    .dataframe tbody tr th {\n",
       "        vertical-align: top;\n",
       "    }\n",
       "\n",
       "    .dataframe thead th {\n",
       "        text-align: right;\n",
       "    }\n",
       "</style>\n",
       "<table border=\"1\" class=\"dataframe\">\n",
       "  <thead>\n",
       "    <tr style=\"text-align: right;\">\n",
       "      <th></th>\n",
       "      <th>const</th>\n",
       "      <th>stars_delta</th>\n",
       "      <th>reviews_delta</th>\n",
       "      <th>is_amazon</th>\n",
       "      <th>is_shipped_by_amazon</th>\n",
       "      <th>is_sold_by_amazon</th>\n",
       "      <th>is_top_clicked</th>\n",
       "      <th>placed_higher</th>\n",
       "    </tr>\n",
       "  </thead>\n",
       "  <tbody>\n",
       "    <tr>\n",
       "      <th>66</th>\n",
       "      <td>1.0</td>\n",
       "      <td>0.2</td>\n",
       "      <td>11367.0</td>\n",
       "      <td>1.0</td>\n",
       "      <td>0.0</td>\n",
       "      <td>1.0</td>\n",
       "      <td>0.0</td>\n",
       "      <td>True</td>\n",
       "    </tr>\n",
       "    <tr>\n",
       "      <th>706</th>\n",
       "      <td>1.0</td>\n",
       "      <td>0.1</td>\n",
       "      <td>-17591.0</td>\n",
       "      <td>-1.0</td>\n",
       "      <td>0.0</td>\n",
       "      <td>0.0</td>\n",
       "      <td>0.0</td>\n",
       "      <td>False</td>\n",
       "    </tr>\n",
       "    <tr>\n",
       "      <th>428</th>\n",
       "      <td>1.0</td>\n",
       "      <td>0.0</td>\n",
       "      <td>1159.0</td>\n",
       "      <td>0.0</td>\n",
       "      <td>1.0</td>\n",
       "      <td>0.0</td>\n",
       "      <td>1.0</td>\n",
       "      <td>False</td>\n",
       "    </tr>\n",
       "    <tr>\n",
       "      <th>276</th>\n",
       "      <td>1.0</td>\n",
       "      <td>-0.3</td>\n",
       "      <td>20532.0</td>\n",
       "      <td>0.0</td>\n",
       "      <td>0.0</td>\n",
       "      <td>0.0</td>\n",
       "      <td>-1.0</td>\n",
       "      <td>False</td>\n",
       "    </tr>\n",
       "    <tr>\n",
       "      <th>675</th>\n",
       "      <td>1.0</td>\n",
       "      <td>0.0</td>\n",
       "      <td>0.0</td>\n",
       "      <td>0.0</td>\n",
       "      <td>0.0</td>\n",
       "      <td>0.0</td>\n",
       "      <td>0.0</td>\n",
       "      <td>False</td>\n",
       "    </tr>\n",
       "    <tr>\n",
       "      <th>...</th>\n",
       "      <td>...</td>\n",
       "      <td>...</td>\n",
       "      <td>...</td>\n",
       "      <td>...</td>\n",
       "      <td>...</td>\n",
       "      <td>...</td>\n",
       "      <td>...</td>\n",
       "      <td>...</td>\n",
       "    </tr>\n",
       "    <tr>\n",
       "      <th>716</th>\n",
       "      <td>1.0</td>\n",
       "      <td>-0.8</td>\n",
       "      <td>-310.0</td>\n",
       "      <td>0.0</td>\n",
       "      <td>-1.0</td>\n",
       "      <td>-1.0</td>\n",
       "      <td>0.0</td>\n",
       "      <td>True</td>\n",
       "    </tr>\n",
       "    <tr>\n",
       "      <th>1135</th>\n",
       "      <td>1.0</td>\n",
       "      <td>-0.2</td>\n",
       "      <td>-7298.0</td>\n",
       "      <td>0.0</td>\n",
       "      <td>0.0</td>\n",
       "      <td>0.0</td>\n",
       "      <td>-1.0</td>\n",
       "      <td>True</td>\n",
       "    </tr>\n",
       "    <tr>\n",
       "      <th>534</th>\n",
       "      <td>1.0</td>\n",
       "      <td>0.1</td>\n",
       "      <td>3515.0</td>\n",
       "      <td>0.0</td>\n",
       "      <td>0.0</td>\n",
       "      <td>0.0</td>\n",
       "      <td>0.0</td>\n",
       "      <td>True</td>\n",
       "    </tr>\n",
       "    <tr>\n",
       "      <th>193</th>\n",
       "      <td>1.0</td>\n",
       "      <td>-0.1</td>\n",
       "      <td>-484236.0</td>\n",
       "      <td>-1.0</td>\n",
       "      <td>0.0</td>\n",
       "      <td>-1.0</td>\n",
       "      <td>-1.0</td>\n",
       "      <td>True</td>\n",
       "    </tr>\n",
       "    <tr>\n",
       "      <th>1169</th>\n",
       "      <td>1.0</td>\n",
       "      <td>-0.2</td>\n",
       "      <td>-2208.0</td>\n",
       "      <td>0.0</td>\n",
       "      <td>0.0</td>\n",
       "      <td>0.0</td>\n",
       "      <td>0.0</td>\n",
       "      <td>False</td>\n",
       "    </tr>\n",
       "  </tbody>\n",
       "</table>\n",
       "<p>1132 rows × 8 columns</p>\n",
       "</div>"
      ],
      "text/plain": [
       "      const  stars_delta  reviews_delta  is_amazon  is_shipped_by_amazon  \\\n",
       "66      1.0          0.2        11367.0        1.0                   0.0   \n",
       "706     1.0          0.1       -17591.0       -1.0                   0.0   \n",
       "428     1.0          0.0         1159.0        0.0                   1.0   \n",
       "276     1.0         -0.3        20532.0        0.0                   0.0   \n",
       "675     1.0          0.0            0.0        0.0                   0.0   \n",
       "...     ...          ...            ...        ...                   ...   \n",
       "716     1.0         -0.8         -310.0        0.0                  -1.0   \n",
       "1135    1.0         -0.2        -7298.0        0.0                   0.0   \n",
       "534     1.0          0.1         3515.0        0.0                   0.0   \n",
       "193     1.0         -0.1      -484236.0       -1.0                   0.0   \n",
       "1169    1.0         -0.2        -2208.0        0.0                   0.0   \n",
       "\n",
       "      is_sold_by_amazon  is_top_clicked  placed_higher  \n",
       "66                  1.0             0.0           True  \n",
       "706                 0.0             0.0          False  \n",
       "428                 0.0             1.0          False  \n",
       "276                 0.0            -1.0          False  \n",
       "675                 0.0             0.0          False  \n",
       "...                 ...             ...            ...  \n",
       "716                -1.0             0.0           True  \n",
       "1135                0.0            -1.0           True  \n",
       "534                 0.0             0.0           True  \n",
       "193                -1.0            -1.0           True  \n",
       "1169                0.0             0.0          False  \n",
       "\n",
       "[1132 rows x 8 columns]"
      ]
     },
     "execution_count": 271,
     "metadata": {},
     "output_type": "execute_result"
    }
   ],
   "source": [
    "train"
   ]
  },
  {
   "cell_type": "code",
   "execution_count": 163,
   "id": "75d266c2",
   "metadata": {
    "scrolled": true
   },
   "outputs": [
    {
     "data": {
      "text/html": [
       "<div>\n",
       "<style scoped>\n",
       "    .dataframe tbody tr th:only-of-type {\n",
       "        vertical-align: middle;\n",
       "    }\n",
       "\n",
       "    .dataframe tbody tr th {\n",
       "        vertical-align: top;\n",
       "    }\n",
       "\n",
       "    .dataframe thead th {\n",
       "        text-align: right;\n",
       "    }\n",
       "</style>\n",
       "<table border=\"1\" class=\"dataframe\">\n",
       "  <thead>\n",
       "    <tr style=\"text-align: right;\">\n",
       "      <th></th>\n",
       "      <th>const</th>\n",
       "      <th>stars_delta</th>\n",
       "      <th>reviews_delta</th>\n",
       "      <th>is_amazon</th>\n",
       "      <th>is_shipped_by_amazon</th>\n",
       "      <th>is_sold_by_amazon</th>\n",
       "      <th>is_top_clicked</th>\n",
       "      <th>placed_higher</th>\n",
       "    </tr>\n",
       "  </thead>\n",
       "  <tbody>\n",
       "    <tr>\n",
       "      <th>283</th>\n",
       "      <td>1.0</td>\n",
       "      <td>0.1</td>\n",
       "      <td>0.026419</td>\n",
       "      <td>-1.0</td>\n",
       "      <td>0.0</td>\n",
       "      <td>0.0</td>\n",
       "      <td>0.0</td>\n",
       "      <td>False</td>\n",
       "    </tr>\n",
       "    <tr>\n",
       "      <th>925</th>\n",
       "      <td>1.0</td>\n",
       "      <td>-0.1</td>\n",
       "      <td>0.047067</td>\n",
       "      <td>0.0</td>\n",
       "      <td>0.0</td>\n",
       "      <td>0.0</td>\n",
       "      <td>0.0</td>\n",
       "      <td>True</td>\n",
       "    </tr>\n",
       "    <tr>\n",
       "      <th>394</th>\n",
       "      <td>1.0</td>\n",
       "      <td>-0.2</td>\n",
       "      <td>-0.011249</td>\n",
       "      <td>0.0</td>\n",
       "      <td>0.0</td>\n",
       "      <td>0.0</td>\n",
       "      <td>0.0</td>\n",
       "      <td>True</td>\n",
       "    </tr>\n",
       "    <tr>\n",
       "      <th>442</th>\n",
       "      <td>1.0</td>\n",
       "      <td>0.0</td>\n",
       "      <td>-0.048170</td>\n",
       "      <td>0.0</td>\n",
       "      <td>0.0</td>\n",
       "      <td>0.0</td>\n",
       "      <td>0.0</td>\n",
       "      <td>True</td>\n",
       "    </tr>\n",
       "    <tr>\n",
       "      <th>467</th>\n",
       "      <td>1.0</td>\n",
       "      <td>0.4</td>\n",
       "      <td>0.236989</td>\n",
       "      <td>0.0</td>\n",
       "      <td>1.0</td>\n",
       "      <td>0.0</td>\n",
       "      <td>0.0</td>\n",
       "      <td>True</td>\n",
       "    </tr>\n",
       "    <tr>\n",
       "      <th>...</th>\n",
       "      <td>...</td>\n",
       "      <td>...</td>\n",
       "      <td>...</td>\n",
       "      <td>...</td>\n",
       "      <td>...</td>\n",
       "      <td>...</td>\n",
       "      <td>...</td>\n",
       "      <td>...</td>\n",
       "    </tr>\n",
       "    <tr>\n",
       "      <th>561</th>\n",
       "      <td>1.0</td>\n",
       "      <td>0.1</td>\n",
       "      <td>-0.610218</td>\n",
       "      <td>0.0</td>\n",
       "      <td>0.0</td>\n",
       "      <td>0.0</td>\n",
       "      <td>1.0</td>\n",
       "      <td>False</td>\n",
       "    </tr>\n",
       "    <tr>\n",
       "      <th>1335</th>\n",
       "      <td>1.0</td>\n",
       "      <td>-0.2</td>\n",
       "      <td>0.152138</td>\n",
       "      <td>-1.0</td>\n",
       "      <td>0.0</td>\n",
       "      <td>-1.0</td>\n",
       "      <td>0.0</td>\n",
       "      <td>False</td>\n",
       "    </tr>\n",
       "    <tr>\n",
       "      <th>1154</th>\n",
       "      <td>1.0</td>\n",
       "      <td>0.1</td>\n",
       "      <td>0.400056</td>\n",
       "      <td>0.0</td>\n",
       "      <td>0.0</td>\n",
       "      <td>1.0</td>\n",
       "      <td>0.0</td>\n",
       "      <td>True</td>\n",
       "    </tr>\n",
       "    <tr>\n",
       "      <th>85</th>\n",
       "      <td>1.0</td>\n",
       "      <td>0.1</td>\n",
       "      <td>0.006553</td>\n",
       "      <td>0.0</td>\n",
       "      <td>0.0</td>\n",
       "      <td>0.0</td>\n",
       "      <td>0.0</td>\n",
       "      <td>False</td>\n",
       "    </tr>\n",
       "    <tr>\n",
       "      <th>103</th>\n",
       "      <td>1.0</td>\n",
       "      <td>-0.7</td>\n",
       "      <td>-0.212269</td>\n",
       "      <td>0.0</td>\n",
       "      <td>0.0</td>\n",
       "      <td>0.0</td>\n",
       "      <td>0.0</td>\n",
       "      <td>True</td>\n",
       "    </tr>\n",
       "  </tbody>\n",
       "</table>\n",
       "<p>283 rows × 8 columns</p>\n",
       "</div>"
      ],
      "text/plain": [
       "      const  stars_delta  reviews_delta  is_amazon  is_shipped_by_amazon  \\\n",
       "283     1.0          0.1       0.026419       -1.0                   0.0   \n",
       "925     1.0         -0.1       0.047067        0.0                   0.0   \n",
       "394     1.0         -0.2      -0.011249        0.0                   0.0   \n",
       "442     1.0          0.0      -0.048170        0.0                   0.0   \n",
       "467     1.0          0.4       0.236989        0.0                   1.0   \n",
       "...     ...          ...            ...        ...                   ...   \n",
       "561     1.0          0.1      -0.610218        0.0                   0.0   \n",
       "1335    1.0         -0.2       0.152138       -1.0                   0.0   \n",
       "1154    1.0          0.1       0.400056        0.0                   0.0   \n",
       "85      1.0          0.1       0.006553        0.0                   0.0   \n",
       "103     1.0         -0.7      -0.212269        0.0                   0.0   \n",
       "\n",
       "      is_sold_by_amazon  is_top_clicked  placed_higher  \n",
       "283                 0.0             0.0          False  \n",
       "925                 0.0             0.0           True  \n",
       "394                 0.0             0.0           True  \n",
       "442                 0.0             0.0           True  \n",
       "467                 0.0             0.0           True  \n",
       "...                 ...             ...            ...  \n",
       "561                 0.0             1.0          False  \n",
       "1335               -1.0             0.0          False  \n",
       "1154                1.0             0.0           True  \n",
       "85                  0.0             0.0          False  \n",
       "103                 0.0             0.0           True  \n",
       "\n",
       "[283 rows x 8 columns]"
      ]
     },
     "execution_count": 163,
     "metadata": {},
     "output_type": "execute_result"
    }
   ],
   "source": [
    "test"
   ]
  },
  {
   "cell_type": "markdown",
   "id": "a3520159",
   "metadata": {},
   "source": [
    "That's not any worse than random forest - we can an equally good fit but we can actually interpret just how important the different features are!"
   ]
  },
  {
   "cell_type": "markdown",
   "id": "38e5905e",
   "metadata": {},
   "source": [
    "The problem that we looked at so far is defined as follows: given the top two items, which one is going to be be placed in the first position?\n",
    "\n",
    "Now, let's solve a slightly different problem formulation (not covered in the Markup write up): given characteristics of the product, how likely is it the top product on its search page?"
   ]
  },
  {
   "cell_type": "code",
   "execution_count": 355,
   "id": "ba7d6914",
   "metadata": {},
   "outputs": [],
   "source": [
    "# let's get the data first:\n",
    "dataset = pd.read_csv('https://www.sapiezynski.com/cs4910/markup/dataset_full.csv')"
   ]
  },
  {
   "cell_type": "code",
   "execution_count": 356,
   "id": "197c8e5a",
   "metadata": {},
   "outputs": [
    {
     "data": {
      "text/html": [
       "<div>\n",
       "<style scoped>\n",
       "    .dataframe tbody tr th:only-of-type {\n",
       "        vertical-align: middle;\n",
       "    }\n",
       "\n",
       "    .dataframe tbody tr th {\n",
       "        vertical-align: top;\n",
       "    }\n",
       "\n",
       "    .dataframe thead th {\n",
       "        text-align: right;\n",
       "    }\n",
       "</style>\n",
       "<table border=\"1\" class=\"dataframe\">\n",
       "  <thead>\n",
       "    <tr style=\"text-align: right;\">\n",
       "      <th></th>\n",
       "      <th>stars</th>\n",
       "      <th>reviews</th>\n",
       "      <th>is_amazon</th>\n",
       "      <th>is_sold_by_amazon</th>\n",
       "      <th>is_shipped_by_amazon</th>\n",
       "      <th>top_clicked</th>\n",
       "      <th>is_top</th>\n",
       "    </tr>\n",
       "  </thead>\n",
       "  <tbody>\n",
       "    <tr>\n",
       "      <th>0</th>\n",
       "      <td>4.8</td>\n",
       "      <td>2120.0</td>\n",
       "      <td>0.0</td>\n",
       "      <td>1.0</td>\n",
       "      <td>1.0</td>\n",
       "      <td>0.0</td>\n",
       "      <td>1.0</td>\n",
       "    </tr>\n",
       "    <tr>\n",
       "      <th>1</th>\n",
       "      <td>4.7</td>\n",
       "      <td>3747.0</td>\n",
       "      <td>0.0</td>\n",
       "      <td>1.0</td>\n",
       "      <td>1.0</td>\n",
       "      <td>1.0</td>\n",
       "      <td>0.0</td>\n",
       "    </tr>\n",
       "    <tr>\n",
       "      <th>2</th>\n",
       "      <td>4.8</td>\n",
       "      <td>6031.0</td>\n",
       "      <td>0.0</td>\n",
       "      <td>1.0</td>\n",
       "      <td>1.0</td>\n",
       "      <td>1.0</td>\n",
       "      <td>0.0</td>\n",
       "    </tr>\n",
       "    <tr>\n",
       "      <th>3</th>\n",
       "      <td>4.8</td>\n",
       "      <td>7017.0</td>\n",
       "      <td>0.0</td>\n",
       "      <td>1.0</td>\n",
       "      <td>1.0</td>\n",
       "      <td>1.0</td>\n",
       "      <td>0.0</td>\n",
       "    </tr>\n",
       "    <tr>\n",
       "      <th>4</th>\n",
       "      <td>4.8</td>\n",
       "      <td>455.0</td>\n",
       "      <td>0.0</td>\n",
       "      <td>1.0</td>\n",
       "      <td>1.0</td>\n",
       "      <td>1.0</td>\n",
       "      <td>0.0</td>\n",
       "    </tr>\n",
       "    <tr>\n",
       "      <th>...</th>\n",
       "      <td>...</td>\n",
       "      <td>...</td>\n",
       "      <td>...</td>\n",
       "      <td>...</td>\n",
       "      <td>...</td>\n",
       "      <td>...</td>\n",
       "      <td>...</td>\n",
       "    </tr>\n",
       "    <tr>\n",
       "      <th>83898</th>\n",
       "      <td>4.7</td>\n",
       "      <td>248.0</td>\n",
       "      <td>0.0</td>\n",
       "      <td>0.0</td>\n",
       "      <td>1.0</td>\n",
       "      <td>0.0</td>\n",
       "      <td>0.0</td>\n",
       "    </tr>\n",
       "    <tr>\n",
       "      <th>83899</th>\n",
       "      <td>4.8</td>\n",
       "      <td>557.0</td>\n",
       "      <td>0.0</td>\n",
       "      <td>0.0</td>\n",
       "      <td>1.0</td>\n",
       "      <td>0.0</td>\n",
       "      <td>0.0</td>\n",
       "    </tr>\n",
       "    <tr>\n",
       "      <th>83900</th>\n",
       "      <td>4.7</td>\n",
       "      <td>214.0</td>\n",
       "      <td>0.0</td>\n",
       "      <td>0.0</td>\n",
       "      <td>0.0</td>\n",
       "      <td>1.0</td>\n",
       "      <td>0.0</td>\n",
       "    </tr>\n",
       "    <tr>\n",
       "      <th>83901</th>\n",
       "      <td>4.8</td>\n",
       "      <td>451.0</td>\n",
       "      <td>0.0</td>\n",
       "      <td>0.0</td>\n",
       "      <td>1.0</td>\n",
       "      <td>1.0</td>\n",
       "      <td>0.0</td>\n",
       "    </tr>\n",
       "    <tr>\n",
       "      <th>83902</th>\n",
       "      <td>4.6</td>\n",
       "      <td>347.0</td>\n",
       "      <td>0.0</td>\n",
       "      <td>0.0</td>\n",
       "      <td>1.0</td>\n",
       "      <td>0.0</td>\n",
       "      <td>0.0</td>\n",
       "    </tr>\n",
       "  </tbody>\n",
       "</table>\n",
       "<p>83903 rows × 7 columns</p>\n",
       "</div>"
      ],
      "text/plain": [
       "       stars  reviews  is_amazon  is_sold_by_amazon  is_shipped_by_amazon  \\\n",
       "0        4.8   2120.0        0.0                1.0                   1.0   \n",
       "1        4.7   3747.0        0.0                1.0                   1.0   \n",
       "2        4.8   6031.0        0.0                1.0                   1.0   \n",
       "3        4.8   7017.0        0.0                1.0                   1.0   \n",
       "4        4.8    455.0        0.0                1.0                   1.0   \n",
       "...      ...      ...        ...                ...                   ...   \n",
       "83898    4.7    248.0        0.0                0.0                   1.0   \n",
       "83899    4.8    557.0        0.0                0.0                   1.0   \n",
       "83900    4.7    214.0        0.0                0.0                   0.0   \n",
       "83901    4.8    451.0        0.0                0.0                   1.0   \n",
       "83902    4.6    347.0        0.0                0.0                   1.0   \n",
       "\n",
       "       top_clicked  is_top  \n",
       "0              0.0     1.0  \n",
       "1              1.0     0.0  \n",
       "2              1.0     0.0  \n",
       "3              1.0     0.0  \n",
       "4              1.0     0.0  \n",
       "...            ...     ...  \n",
       "83898          0.0     0.0  \n",
       "83899          0.0     0.0  \n",
       "83900          1.0     0.0  \n",
       "83901          1.0     0.0  \n",
       "83902          0.0     0.0  \n",
       "\n",
       "[83903 rows x 7 columns]"
      ]
     },
     "execution_count": 356,
     "metadata": {},
     "output_type": "execute_result"
    }
   ],
   "source": [
    "dataset"
   ]
  },
  {
   "cell_type": "markdown",
   "id": "b9fb76c2",
   "metadata": {},
   "source": [
    "This dataset is an aggregation of all first search result pages from the Markup audit that had any amazon products on them. The sponsored results are removed.\n",
    "\n",
    "In this dataset each row is a product with its star rating, the number of reviews, the binary indicators of whether it's an amazon product, it's sold or shipped by amazon, whether it was among the most clicked products, and the outcome variable - whether it was the top product in its search results page.\n",
    "\n",
    "We're looking at at most 24 first results, so on average only one in 24 rows is the top placed product:\n"
   ]
  },
  {
   "cell_type": "code",
   "execution_count": 357,
   "id": "0cbc06cb",
   "metadata": {},
   "outputs": [
    {
     "data": {
      "text/plain": [
       "0.04551684683503569"
      ]
     },
     "execution_count": 357,
     "metadata": {},
     "output_type": "execute_result"
    }
   ],
   "source": [
    "dataset['is_top'].mean()"
   ]
  },
  {
   "cell_type": "code",
   "execution_count": 358,
   "id": "0eb74137",
   "metadata": {},
   "outputs": [],
   "source": [
    "# the lowest star rating is 1, not 0, let's adjust the rating such that it starts at 0:\n",
    "dataset['stars'] -= 1"
   ]
  },
  {
   "cell_type": "markdown",
   "id": "4e89f0a7",
   "metadata": {},
   "source": [
    "<div style=\"background-color:lightblue; padding:20px\">\n",
    "<h5>Excercise 1: Interpreting the meaning of logistic regression coefficients</h5>\n",
    "In this exercise you will interpret the values of the coefficients of a logistic regression model that tries to predict whether a product was the top product on its search page.\n",
    "\n",
    "In particular, please answer these questions:\n",
    "1. What is the probability that a hypothetical product with the lowest rating, no reviews, not sold/shipped/produced by amazon, and not among the top clicked products will be placed at the top?\n",
    "1. Increase in which variables corresponds to a higher probability of being placed at the top?\n",
    "1. How do you interpret the `stars` coefficient and its statistical significance?\n",
    "1. If a product receives one more review without changing any other of its characteristics, how does it affect its chances to placed at the top? \n",
    "    * How about 1000000 more reviews?\n",
    "1. What is the probability that a five-star product with 1000 reviews, produced, sold, and shipped by amazon that was among the top clicked results will be placed on the top of the result list? \n",
    "    * Is this number higher, or lower than you expected? Does it change how you interpret the results of the model for only the top two positions? Why?\n",
    "\n",
    "</div>"
   ]
  },
  {
   "cell_type": "code",
   "execution_count": 359,
   "id": "250e2c98",
   "metadata": {},
   "outputs": [
    {
     "name": "stdout",
     "output_type": "stream",
     "text": [
      "Optimization terminated successfully.\n",
      "         Current function value: 0.180478\n",
      "         Iterations 7\n"
     ]
    }
   ],
   "source": [
    "dataset = add_constant(dataset)\n",
    "cols =['const', 'stars', 'reviews', 'is_amazon', 'is_sold_by_amazon', 'is_shipped_by_amazon', 'top_clicked']\n",
    "log_reg = sm.Logit(dataset['is_top'],\n",
    "                   dataset[cols]).fit()"
   ]
  },
  {
   "cell_type": "code",
   "execution_count": 360,
   "id": "94f1938f",
   "metadata": {},
   "outputs": [
    {
     "data": {
      "text/html": [
       "<table class=\"simpletable\">\n",
       "<caption>Logit Regression Results</caption>\n",
       "<tr>\n",
       "  <th>Dep. Variable:</th>        <td>is_top</td>      <th>  No. Observations:  </th>   <td> 83903</td>  \n",
       "</tr>\n",
       "<tr>\n",
       "  <th>Model:</th>                 <td>Logit</td>      <th>  Df Residuals:      </th>   <td> 83896</td>  \n",
       "</tr>\n",
       "<tr>\n",
       "  <th>Method:</th>                 <td>MLE</td>       <th>  Df Model:          </th>   <td>     6</td>  \n",
       "</tr>\n",
       "<tr>\n",
       "  <th>Date:</th>            <td>Mon, 07 Feb 2022</td> <th>  Pseudo R-squ.:     </th>   <td>0.02496</td> \n",
       "</tr>\n",
       "<tr>\n",
       "  <th>Time:</th>                <td>12:22:50</td>     <th>  Log-Likelihood:    </th>  <td> -15143.</td> \n",
       "</tr>\n",
       "<tr>\n",
       "  <th>converged:</th>             <td>True</td>       <th>  LL-Null:           </th>  <td> -15530.</td> \n",
       "</tr>\n",
       "<tr>\n",
       "  <th>Covariance Type:</th>     <td>nonrobust</td>    <th>  LLR p-value:       </th> <td>3.631e-164</td>\n",
       "</tr>\n",
       "</table>\n",
       "<table class=\"simpletable\">\n",
       "<tr>\n",
       "            <td></td>              <th>coef</th>     <th>std err</th>      <th>z</th>      <th>P>|z|</th>  <th>[0.025</th>    <th>0.975]</th>  \n",
       "</tr>\n",
       "<tr>\n",
       "  <th>const</th>                <td>   -3.4286</td> <td>    0.221</td> <td>  -15.494</td> <td> 0.000</td> <td>   -3.862</td> <td>   -2.995</td>\n",
       "</tr>\n",
       "<tr>\n",
       "  <th>stars</th>                <td>   -0.0472</td> <td>    0.061</td> <td>   -0.770</td> <td> 0.441</td> <td>   -0.167</td> <td>    0.073</td>\n",
       "</tr>\n",
       "<tr>\n",
       "  <th>reviews</th>              <td> 1.284e-06</td> <td> 4.15e-07</td> <td>    3.092</td> <td> 0.002</td> <td>  4.7e-07</td> <td>  2.1e-06</td>\n",
       "</tr>\n",
       "<tr>\n",
       "  <th>is_amazon</th>            <td>    1.1472</td> <td>    0.047</td> <td>   24.576</td> <td> 0.000</td> <td>    1.056</td> <td>    1.239</td>\n",
       "</tr>\n",
       "<tr>\n",
       "  <th>is_sold_by_amazon</th>    <td>   -0.1224</td> <td>    0.039</td> <td>   -3.171</td> <td> 0.002</td> <td>   -0.198</td> <td>   -0.047</td>\n",
       "</tr>\n",
       "<tr>\n",
       "  <th>is_shipped_by_amazon</th> <td>    0.2063</td> <td>    0.068</td> <td>    3.040</td> <td> 0.002</td> <td>    0.073</td> <td>    0.339</td>\n",
       "</tr>\n",
       "<tr>\n",
       "  <th>top_clicked</th>          <td>    0.4318</td> <td>    0.035</td> <td>   12.174</td> <td> 0.000</td> <td>    0.362</td> <td>    0.501</td>\n",
       "</tr>\n",
       "</table>"
      ],
      "text/plain": [
       "<class 'statsmodels.iolib.summary.Summary'>\n",
       "\"\"\"\n",
       "                           Logit Regression Results                           \n",
       "==============================================================================\n",
       "Dep. Variable:                 is_top   No. Observations:                83903\n",
       "Model:                          Logit   Df Residuals:                    83896\n",
       "Method:                           MLE   Df Model:                            6\n",
       "Date:                Mon, 07 Feb 2022   Pseudo R-squ.:                 0.02496\n",
       "Time:                        12:22:50   Log-Likelihood:                -15143.\n",
       "converged:                       True   LL-Null:                       -15530.\n",
       "Covariance Type:            nonrobust   LLR p-value:                3.631e-164\n",
       "========================================================================================\n",
       "                           coef    std err          z      P>|z|      [0.025      0.975]\n",
       "----------------------------------------------------------------------------------------\n",
       "const                   -3.4286      0.221    -15.494      0.000      -3.862      -2.995\n",
       "stars                   -0.0472      0.061     -0.770      0.441      -0.167       0.073\n",
       "reviews               1.284e-06   4.15e-07      3.092      0.002     4.7e-07     2.1e-06\n",
       "is_amazon                1.1472      0.047     24.576      0.000       1.056       1.239\n",
       "is_sold_by_amazon       -0.1224      0.039     -3.171      0.002      -0.198      -0.047\n",
       "is_shipped_by_amazon     0.2063      0.068      3.040      0.002       0.073       0.339\n",
       "top_clicked              0.4318      0.035     12.174      0.000       0.362       0.501\n",
       "========================================================================================\n",
       "\"\"\""
      ]
     },
     "execution_count": 360,
     "metadata": {},
     "output_type": "execute_result"
    }
   ],
   "source": [
    "log_reg.summary()"
   ]
  },
  {
   "cell_type": "code",
   "execution_count": null,
   "id": "f108db46",
   "metadata": {},
   "outputs": [],
   "source": []
  },
  {
   "cell_type": "code",
   "execution_count": null,
   "id": "1aebd394",
   "metadata": {},
   "outputs": [],
   "source": []
  },
  {
   "cell_type": "code",
   "execution_count": 361,
   "id": "20477a84",
   "metadata": {},
   "outputs": [
    {
     "data": {
      "text/plain": [
       "0.03141344729908379"
      ]
     },
     "execution_count": 361,
     "metadata": {},
     "output_type": "execute_result"
    }
   ],
   "source": [
    "# What is the probability that a hypothetical product with the lowest rating, no reviews, \n",
    "# not sold/shipped/produced by amazon, and not among the top clicked products will be placed at the top?\n",
    "np.e**(log_reg.params[0])/(1+ np.e**(log_reg.params[0]))"
   ]
  },
  {
   "cell_type": "markdown",
   "id": "0e29143e",
   "metadata": {},
   "source": [
    "- Increase in which variables corresponds to a higher probability of being placed at the top?\n",
    ">reviews, is_amazon, is_shipped_by_amazon, top_clicked (all ones that have positive coefs and are significant)"
   ]
  },
  {
   "cell_type": "markdown",
   "id": "edd5d0ef",
   "metadata": {},
   "source": [
    "- How do you interpret the stars coefficient and its statistical significance?\n",
    "> It is not statistically significant, so it appears not to have an effect on the placement.\n",
    "> its value is negative, so if it was significant it would indicate that higher rated items are less likely to be on top"
   ]
  },
  {
   "cell_type": "markdown",
   "id": "fd5da455",
   "metadata": {},
   "source": [
    "- If a product with no reviews receives its first one without changing any other of its characteristics, how does it affect its chances to placed at the top? How about when it receives 1000000 reviews instead?"
   ]
  },
  {
   "cell_type": "code",
   "execution_count": 362,
   "id": "a3448996",
   "metadata": {},
   "outputs": [
    {
     "name": "stdout",
     "output_type": "stream",
     "text": [
      "3.907903880356889e-08\n"
     ]
    }
   ],
   "source": [
    "p0 = np.e**(log_reg.params[0])/(1+ np.e**(log_reg.params[0]))\n",
    "p1 = np.e**(log_reg.params[0] + log_reg.params[2])/(1+ np.e**(log_reg.params[0]+log_reg.params[2]))\n",
    "print(p1-p0)"
   ]
  },
  {
   "cell_type": "code",
   "execution_count": 363,
   "id": "6436ee48",
   "metadata": {},
   "outputs": [],
   "source": [
    "p2 = np.e**(log_reg.params[0] + log_reg.params[2] * 1000000)/(1+ np.e**(log_reg.params[0]+log_reg.params[2]*1000000))"
   ]
  },
  {
   "cell_type": "code",
   "execution_count": null,
   "id": "c44f7fcd",
   "metadata": {},
   "outputs": [],
   "source": []
  },
  {
   "cell_type": "code",
   "execution_count": 364,
   "id": "ba9127d5",
   "metadata": {},
   "outputs": [
    {
     "name": "stdout",
     "output_type": "stream",
     "text": [
      "0.07345786543985264\n"
     ]
    }
   ],
   "source": [
    "print(p2-p0)"
   ]
  },
  {
   "cell_type": "code",
   "execution_count": 365,
   "id": "f772f24f",
   "metadata": {},
   "outputs": [
    {
     "data": {
      "text/plain": [
       "0.03141344729908379"
      ]
     },
     "execution_count": 365,
     "metadata": {},
     "output_type": "execute_result"
    }
   ],
   "source": [
    "p0"
   ]
  },
  {
   "cell_type": "code",
   "execution_count": 366,
   "id": "830f0ce2",
   "metadata": {},
   "outputs": [
    {
     "data": {
      "text/plain": [
       "0.10487131273893643"
      ]
     },
     "execution_count": 366,
     "metadata": {},
     "output_type": "execute_result"
    }
   ],
   "source": [
    "p2"
   ]
  },
  {
   "cell_type": "markdown",
   "id": "08cd1a3d",
   "metadata": {},
   "source": [
    "> The probability of being placed at the top grows by 7 percentage points from 3% to 10%"
   ]
  },
  {
   "cell_type": "markdown",
   "id": "f04d872c",
   "metadata": {},
   "source": [
    "- What is the probability that a five-star product with 100000 reviews, produced, sold, and shipped by amazon that was among the top clicked results will be placed on the top of the result list? "
   ]
  },
  {
   "cell_type": "code",
   "execution_count": 367,
   "id": "acef94b7",
   "metadata": {},
   "outputs": [],
   "source": [
    "numerator = np.e**(log_reg.params[0]\\\n",
    "                  + log_reg.params[1]*4\\\n",
    "                  + log_reg.params[2]*100000\\\n",
    "                  + log_reg.params[3]\\\n",
    "                  + log_reg.params[4]\\\n",
    "                  + log_reg.params[5]\\\n",
    "                  + log_reg.params[6])"
   ]
  },
  {
   "cell_type": "code",
   "execution_count": 368,
   "id": "5a837e22",
   "metadata": {},
   "outputs": [
    {
     "data": {
      "text/plain": [
       "0.13871729855646864"
      ]
     },
     "execution_count": 368,
     "metadata": {},
     "output_type": "execute_result"
    }
   ],
   "source": [
    "numerator/(1+ numerator)"
   ]
  },
  {
   "cell_type": "markdown",
   "id": "e5a33ecc",
   "metadata": {},
   "source": [
    "- Is this number higher, or lower than you expected? Does it change how you interpret the results of the model for only the top two positions? Why? \n",
    "\n",
    "> Any answer beyond \"it's what I expected, it doesn't change anything\" goes. \n",
    ">\n",
    "> To me personally it's surprisingly low - given the results from the markup I would naively expect that being an amazon product nearly guarantees the first spot but of course it doesn't - there are likely multiple amazon products on the front page and only one will make it to the top, and it's also not always that one is at the top."
   ]
  },
  {
   "cell_type": "code",
   "execution_count": null,
   "id": "14a7047e",
   "metadata": {},
   "outputs": [],
   "source": []
  }
 ],
 "metadata": {
  "kernelspec": {
   "display_name": "Python 3 (ipykernel)",
   "language": "python",
   "name": "python3"
  },
  "language_info": {
   "codemirror_mode": {
    "name": "ipython",
    "version": 3
   },
   "file_extension": ".py",
   "mimetype": "text/x-python",
   "name": "python",
   "nbconvert_exporter": "python",
   "pygments_lexer": "ipython3",
   "version": "3.9.7"
  }
 },
 "nbformat": 4,
 "nbformat_minor": 5
}
