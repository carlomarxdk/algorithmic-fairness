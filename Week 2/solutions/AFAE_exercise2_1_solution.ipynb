{
 "cells": [
  {
   "cell_type": "markdown",
   "metadata": {
    "id": "VZTQoQfZr6af"
   },
   "source": [
    "# Algorithmic Fairness, Accountability, and Ethics: \n",
    "## Data Analysis on the Berkeley admissions in 1973"
   ]
  },
  {
   "cell_type": "markdown",
   "metadata": {
    "id": "BbsAddZsr6am"
   },
   "source": [
    "* The dataset `BerkeleyAdmissionsData.csv` is a three-way table that presents admissions data at the University of California, Berkeley in 1973 according to the variables department (A, B, C, D, E), gender (male, female), and outcome (admitted, denied) encoded as Yes and No.\n",
    "* Load the dataset\n",
    "* Did Berkley admissions in 1973 suffered from gender bias? Why or why not?\n",
    "    * What methods or metric did you use?\n",
    "    * Could you find any signs of the Simpson's Paradox? What methods did you use? "
   ]
  },
  {
   "cell_type": "markdown",
   "metadata": {},
   "source": [
    "## References\n",
    "- When you complete the exercise, have a look at [the original paper](https://homepage.stat.uiowa.edu/~mbognar/1030/Bickel-Berkeley.pdf)"
   ]
  },
  {
   "cell_type": "code",
   "execution_count": 4,
   "metadata": {},
   "outputs": [],
   "source": [
    "import numpy as np\n",
    "import matplotlib.pyplot as plt\n",
    "import seaborn as sns\n",
    "sns.set()\n",
    "import pandas as pd"
   ]
  },
  {
   "cell_type": "code",
   "execution_count": 5,
   "metadata": {},
   "outputs": [
    {
     "data": {
      "text/html": [
       "<div>\n",
       "<style scoped>\n",
       "    .dataframe tbody tr th:only-of-type {\n",
       "        vertical-align: middle;\n",
       "    }\n",
       "\n",
       "    .dataframe tbody tr th {\n",
       "        vertical-align: top;\n",
       "    }\n",
       "\n",
       "    .dataframe thead th {\n",
       "        text-align: right;\n",
       "    }\n",
       "</style>\n",
       "<table border=\"1\" class=\"dataframe\">\n",
       "  <thead>\n",
       "    <tr style=\"text-align: right;\">\n",
       "      <th></th>\n",
       "      <th>Dept</th>\n",
       "      <th>Male Yes</th>\n",
       "      <th>Male No</th>\n",
       "      <th>Female Yes</th>\n",
       "      <th>Female No</th>\n",
       "    </tr>\n",
       "  </thead>\n",
       "  <tbody>\n",
       "    <tr>\n",
       "      <th>0</th>\n",
       "      <td>A</td>\n",
       "      <td>512</td>\n",
       "      <td>313</td>\n",
       "      <td>89</td>\n",
       "      <td>19</td>\n",
       "    </tr>\n",
       "    <tr>\n",
       "      <th>1</th>\n",
       "      <td>B</td>\n",
       "      <td>313</td>\n",
       "      <td>207</td>\n",
       "      <td>17</td>\n",
       "      <td>8</td>\n",
       "    </tr>\n",
       "    <tr>\n",
       "      <th>2</th>\n",
       "      <td>C</td>\n",
       "      <td>120</td>\n",
       "      <td>205</td>\n",
       "      <td>202</td>\n",
       "      <td>391</td>\n",
       "    </tr>\n",
       "    <tr>\n",
       "      <th>3</th>\n",
       "      <td>D</td>\n",
       "      <td>138</td>\n",
       "      <td>279</td>\n",
       "      <td>131</td>\n",
       "      <td>244</td>\n",
       "    </tr>\n",
       "    <tr>\n",
       "      <th>4</th>\n",
       "      <td>E</td>\n",
       "      <td>53</td>\n",
       "      <td>138</td>\n",
       "      <td>94</td>\n",
       "      <td>299</td>\n",
       "    </tr>\n",
       "  </tbody>\n",
       "</table>\n",
       "</div>"
      ],
      "text/plain": [
       "  Dept  Male Yes  Male No  Female Yes  Female No\n",
       "0    A       512      313          89         19\n",
       "1    B       313      207          17          8\n",
       "2    C       120      205         202        391\n",
       "3    D       138      279         131        244\n",
       "4    E        53      138          94        299"
      ]
     },
     "execution_count": 5,
     "metadata": {},
     "output_type": "execute_result"
    }
   ],
   "source": [
    "df = pd.read_csv(\"BerkeleyAdmissionsData.csv\")\n",
    "df.head()"
   ]
  },
  {
   "cell_type": "code",
   "execution_count": 8,
   "metadata": {},
   "outputs": [
    {
     "data": {
      "image/png": "[encoded data removed]",
      "text/plain": [
       "<Figure size 1440x360 with 2 Axes>"
      ]
     },
     "metadata": {},
     "output_type": "display_data"
    }
   ],
   "source": [
    "df[\"MvsM\"] = df.apply(lambda x: x[\"Male Yes\"]/ (x[\"Male No\"] + x[\"Male Yes\"]), axis = 1)\n",
    "df[\"FvsF\"] = df.apply(lambda x: x[\"Female Yes\"]/ (x[\"Female No\"] + x[\"Female Yes\"]), axis = 1)\n",
    "df[\"FvsAll\"] = df.apply(lambda x: x[\"Female Yes\"]/ (x[\"Female No\"] + x[\"Female Yes\"] + x[\"Male No\"] + x[\"Male Yes\"]), axis = 1)\n",
    "df[\"MvsAll\"] = df.apply(lambda x: x[\"Male Yes\"]/ (x[\"Female No\"] + x[\"Female Yes\"] + x[\"Male No\"] + x[\"Male Yes\"]), axis = 1)\n",
    "fig, ax = plt.subplots(1,2, figsize=(20,5))\n",
    "ax[0] = df[[\"Dept\",\"MvsM\", \"FvsF\"]][df[\"Dept\"] == \"All\"].plot.bar(ax=ax[0], title=\"Ratio of Admitted Applicants\", \n",
    "                                                      rot=0, ylabel=\"Percentage of Admitted\", ylim=[0,1])\n",
    "ax[0].set_xticklabels([\"Aggregated\"])\n",
    "ax[0].legend([\"Male\", \"Female\"])\n",
    "\n",
    "ax[1]= df[[\"Dept\",\"MvsM\", \"FvsF\"]].iloc[0:6].plot.bar(ax=ax[1], title=\"Ratio of Admitted Applicants\", \n",
    "                                                      rot=0, ylabel=\"Percentage of Admitted\", xlabel=\"Departments\", ylim=[0,1])\n",
    "ax[1].set_xticklabels(df[\"Dept\"][0:6])\n",
    "ax[1].legend([\"Male\", \"Female\"])\n",
    "plt.show()"
   ]
  },
  {
   "cell_type": "markdown",
   "metadata": {},
   "source": [
    "* **Did Berkley admissions in 1973 suffered from gender bias? Why or why not?**\n",
    "1. What methods or metric did you use?\n",
    "\n",
    "We first look at the ratio of admitted applicants over total applicants, divided by gender. If we do so, we see that the university was more likely to admit male applicants, indicating an apparent gender bias against women. \n",
    "\n",
    "However, if we look at the ratios of admitted applicants *per each department* (broken down by gender), we see that the general trend observed in the aggregated form disappears: some departments exhibit similar acceptance rates for women and men, some department accept more women than men, while some departments accept slightly more men than women.\n",
    "\n",
    "If we further look at the number of applicants (see below), we see that females were more like to appliy to deparments with low acceptance ratio (supposedly more competitive departments). These differences in applications preferences explains why we have an apparent gender bias in the aggregated plot. Thus, we can argue that there is **no bias based on gender**, and the discrepancy is explained by the number of applicants in each group (not the admission process of the university).\n",
    "\n",
    "2. Could you find any signs of the Simpson's Paradox? What methods did you use?\n",
    "\n",
    "This is the example of the Simpson's Paradox. Per-department aggregation and overall aggregation display oposite trends (thus, leading us to contradicting conclusions)\n",
    "\n",
    "\n",
    "\n",
    "\n"
   ]
  },
  {
   "cell_type": "code",
   "execution_count": 89,
   "metadata": {},
   "outputs": [],
   "source": [
    "df[\"M_num\"] = df.apply(lambda x: x[\"Male Yes\"] + x[\"Male No\"], axis = 1)\n",
    "df[\"F_num\"] = df.apply(lambda x: x[\"Female Yes\"] + x[\"Female No\"], axis = 1)"
   ]
  },
  {
   "cell_type": "code",
   "execution_count": 104,
   "metadata": {},
   "outputs": [
    {
     "data": {
      "image/png": "[encoded data removed]",
      "text/plain": [
       "<Figure size 720x432 with 1 Axes>"
      ]
     },
     "metadata": {},
     "output_type": "display_data"
    }
   ],
   "source": [
    "fig, ax = plt.subplots(figsize=(10,6))\n",
    "df[[\"M_num\", \"F_num\"]].iloc[0:6].plot.bar(title=\"Number of Applicants per Department\", \n",
    "                                                      rot=0, ylabel=\"Number of Applicants\", xlabel=\"Departments\", ax=ax)\n",
    "ax.set_xticklabels([\"A\", \"B\", \"C\", \"D\", \"E\", \"F\"])\n",
    "ax.legend([\"Male\", \"Female\"])\n",
    "plt.show()"
   ]
  },
  {
   "cell_type": "code",
   "execution_count": null,
   "metadata": {},
   "outputs": [],
   "source": []
  }
 ],
 "metadata": {
  "colab": {
   "collapsed_sections": [
    "gQ1U5M3Pr6bE",
    "wd942zEor6bu",
    "Y_mSlszqr6bx"
   ],
   "name": "Homework 1.ipynb",
   "provenance": [],
   "toc_visible": true
  },
  "kernelspec": {
   "display_name": "Python 3 (ipykernel)",
   "language": "python",
   "name": "python3"
  },
  "language_info": {
   "codemirror_mode": {
    "name": "ipython",
    "version": 3
   },
   "file_extension": ".py",
   "mimetype": "text/x-python",
   "name": "python",
   "nbconvert_exporter": "python",
   "pygments_lexer": "ipython3",
   "version": "3.9.7"
  }
 },
 "nbformat": 4,
 "nbformat_minor": 4
}
