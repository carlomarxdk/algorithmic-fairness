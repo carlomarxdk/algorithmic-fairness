{
 "cells": [
  {
   "cell_type": "markdown",
   "metadata": {
    "id": "VZTQoQfZr6af"
   },
   "source": [
    "# Algorithmic Fairness, Accountability, and Ethics: \n",
    "## Data Analysis on the Berkeley admissions in 1973"
   ]
  },
  {
   "cell_type": "markdown",
   "metadata": {
    "id": "BbsAddZsr6am"
   },
   "source": [
    "* The dataset `BerkeleyAdmissionsData.csv` is a three-way table that presents admissions data at the University of California, Berkeley in 1973 according to the variables department (A, B, C, D, E), gender (male, female), and outcome (admitted, denied) encoded as Yes and No.\n",
    "* Load the dataset\n",
    "* Did Berkley admissions in 1973 suffered from gender bias? Why or why not?\n",
    "    * What methods or metric did you use?\n",
    "    * Could you find any signs of the Simpson's Paradox (a form of aggregation bias)? What methods did you use? "
   ]
  },
  {
   "cell_type": "markdown",
   "metadata": {},
   "source": [
    "## References\n",
    "- When you complete the exercise, have a look at [the original paper](https://homepage.stat.uiowa.edu/~mbognar/1030/Bickel-Berkeley.pdf)"
   ]
  },
  {
   "cell_type": "code",
   "execution_count": null,
   "metadata": {},
   "outputs": [],
   "source": [
    " "
   ]
  }
 ],
 "metadata": {
  "colab": {
   "collapsed_sections": [
    "gQ1U5M3Pr6bE",
    "wd942zEor6bu",
    "Y_mSlszqr6bx"
   ],
   "name": "Homework 1.ipynb",
   "provenance": [],
   "toc_visible": true
  },
  "kernelspec": {
   "display_name": "Python 3",
   "language": "python",
   "name": "python3"
  },
  "language_info": {
   "codemirror_mode": {
    "name": "ipython",
    "version": 3
   },
   "file_extension": ".py",
   "mimetype": "text/x-python",
   "name": "python",
   "nbconvert_exporter": "python",
   "pygments_lexer": "ipython3",
   "version": "3.7.1"
  }
 },
 "nbformat": 4,
 "nbformat_minor": 4
}
